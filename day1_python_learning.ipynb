{
 "cells": [
  {
   "cell_type": "code",
   "execution_count": 3,
   "id": "a086aae4-0309-43c5-9d17-0feb4a3cb8f2",
   "metadata": {},
   "outputs": [
    {
     "name": "stdout",
     "output_type": "stream",
     "text": [
      "Hello world !!\n"
     ]
    }
   ],
   "source": [
    "print(\"Hello world !!\")"
   ]
  },
  {
   "cell_type": "code",
   "execution_count": 4,
   "id": "a91ff488-b88b-4b25-b15c-51b336af3ce3",
   "metadata": {},
   "outputs": [
    {
     "name": "stdout",
     "output_type": "stream",
     "text": [
      "This is my first python training practise\n"
     ]
    }
   ],
   "source": [
    "print(\"This is my first python training practise\")"
   ]
  }
 ],
 "metadata": {
  "kernelspec": {
   "display_name": "Python 3 (ipykernel)",
   "language": "python",
   "name": "python3"
  },
  "language_info": {
   "codemirror_mode": {
    "name": "ipython",
    "version": 3
   },
   "file_extension": ".py",
   "mimetype": "text/x-python",
   "name": "python",
   "nbconvert_exporter": "python",
   "pygments_lexer": "ipython3",
   "version": "3.13.5"
  }
 },
 "nbformat": 4,
 "nbformat_minor": 5
}
