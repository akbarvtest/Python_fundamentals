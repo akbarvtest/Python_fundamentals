{
 "cells": [
  {
   "cell_type": "code",
   "execution_count": 11,
   "id": "4b4f06ee-7005-4c71-af90-df793a0580c5",
   "metadata": {},
   "outputs": [],
   "source": [
    "firstname = 'akbar'"
   ]
  },
  {
   "cell_type": "code",
   "execution_count": 10,
   "id": "76fd136e-b895-48da-85f0-e6cfe2c7f3d5",
   "metadata": {},
   "outputs": [],
   "source": [
    "lastname = 'shaikh'"
   ]
  },
  {
   "cell_type": "code",
   "execution_count": 12,
   "id": "87cc0592-a7e8-4671-9062-53973563fda6",
   "metadata": {},
   "outputs": [],
   "source": [
    "fullname = f\"{firstname} {lastname}\""
   ]
  },
  {
   "cell_type": "code",
   "execution_count": 13,
   "id": "4a795749-7569-4ee8-9034-81910a0a1e4a",
   "metadata": {},
   "outputs": [
    {
     "name": "stdout",
     "output_type": "stream",
     "text": [
      "akbar shaikh\n"
     ]
    }
   ],
   "source": [
    "print (fullname)"
   ]
  },
  {
   "cell_type": "code",
   "execution_count": 16,
   "id": "9d35d9b0-ed6b-4caa-97a3-46721e83fb79",
   "metadata": {},
   "outputs": [],
   "source": [
    "message = f\"{fullname.title()}\""
   ]
  },
  {
   "cell_type": "code",
   "execution_count": 17,
   "id": "80c07623-03d2-4099-b73e-1c6af3f6f0e3",
   "metadata": {},
   "outputs": [
    {
     "name": "stdout",
     "output_type": "stream",
     "text": [
      "Akbar Shaikh\n"
     ]
    }
   ],
   "source": [
    "print (message)"
   ]
  },
  {
   "cell_type": "code",
   "execution_count": 21,
   "id": "ddd7cefe-7e8b-46c9-b1e4-e6f18092a345",
   "metadata": {},
   "outputs": [],
   "source": [
    "# \\n --> new line delimeter"
   ]
  },
  {
   "cell_type": "code",
   "execution_count": 23,
   "id": "52aed7b7-2a86-48f8-bf74-08648dfc14d7",
   "metadata": {},
   "outputs": [],
   "source": [
    "# \\t --> tab space delimeter"
   ]
  },
  {
   "cell_type": "code",
   "execution_count": 26,
   "id": "218c1e43-c70e-4472-ae91-0ad9bfd28d1d",
   "metadata": {},
   "outputs": [],
   "source": [
    "name1 = '   python'"
   ]
  },
  {
   "cell_type": "code",
   "execution_count": 27,
   "id": "2231f4e5-7a95-4ac3-a04c-22186a05322c",
   "metadata": {},
   "outputs": [],
   "source": [
    "name2 = 'python   '"
   ]
  },
  {
   "cell_type": "code",
   "execution_count": 29,
   "id": "dba03ba3-bd53-4fb5-8fa0-6b9c4fcbdd13",
   "metadata": {},
   "outputs": [],
   "source": [
    "name3 = '     python     '"
   ]
  },
  {
   "cell_type": "code",
   "execution_count": 33,
   "id": "dd83a337-0c48-4ea5-83da-0a1a871160fb",
   "metadata": {},
   "outputs": [
    {
     "name": "stdout",
     "output_type": "stream",
     "text": [
      "python\n"
     ]
    }
   ],
   "source": [
    "print (name1.lstrip())"
   ]
  },
  {
   "cell_type": "code",
   "execution_count": 36,
   "id": "e5c1e874-b5c9-456e-b9b8-a07cf09ced43",
   "metadata": {},
   "outputs": [
    {
     "name": "stdout",
     "output_type": "stream",
     "text": [
      "python\n"
     ]
    }
   ],
   "source": [
    "print (name2.rstrip())"
   ]
  },
  {
   "cell_type": "code",
   "execution_count": 39,
   "id": "96831755-4818-49a5-a00d-5a39621e32af",
   "metadata": {},
   "outputs": [
    {
     "name": "stdout",
     "output_type": "stream",
     "text": [
      "python\n"
     ]
    }
   ],
   "source": [
    "print (name3.strip())"
   ]
  },
  {
   "cell_type": "code",
   "execution_count": 43,
   "id": "e5a8bbb4-d44e-4cc6-9b98-e02f4a531d1f",
   "metadata": {},
   "outputs": [
    {
     "name": "stdout",
     "output_type": "stream",
     "text": [
      "*\n",
      "**\n",
      "***\n"
     ]
    }
   ],
   "source": [
    "print (\"*\\n**\\n***\")"
   ]
  },
  {
   "cell_type": "code",
   "execution_count": 45,
   "id": "59e4b584-1f53-459d-88a5-8b2c14c5ca48",
   "metadata": {},
   "outputs": [
    {
     "name": "stdout",
     "output_type": "stream",
     "text": [
      "star\n",
      "\tmoon\n",
      "\t\tsun\n"
     ]
    }
   ],
   "source": [
    "print (\"star\\n\\tmoon\\n\\t\\tsun\")"
   ]
  },
  {
   "cell_type": "code",
   "execution_count": 49,
   "id": "483587dd-bf1c-4184-9bb8-cc8d181bbc02",
   "metadata": {},
   "outputs": [],
   "source": [
    "# zen of python : Guidlines principles"
   ]
  },
  {
   "cell_type": "code",
   "execution_count": 62,
   "id": "d10a2b10-6707-4ccc-a79a-b164654dcb1b",
   "metadata": {},
   "outputs": [],
   "source": [
    "import this"
   ]
  },
  {
   "cell_type": "code",
   "execution_count": null,
   "id": "1c64c364-e9ef-4e2a-a5c6-a3027b60fe57",
   "metadata": {},
   "outputs": [],
   "source": []
  }
 ],
 "metadata": {
  "kernelspec": {
   "display_name": "Python [conda env:base] *",
   "language": "python",
   "name": "conda-base-py"
  },
  "language_info": {
   "codemirror_mode": {
    "name": "ipython",
    "version": 3
   },
   "file_extension": ".py",
   "mimetype": "text/x-python",
   "name": "python",
   "nbconvert_exporter": "python",
   "pygments_lexer": "ipython3",
   "version": "3.13.5"
  }
 },
 "nbformat": 4,
 "nbformat_minor": 5
}
